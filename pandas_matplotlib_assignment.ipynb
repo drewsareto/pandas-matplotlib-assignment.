{
 "cells": [
  {
   "cell_type": "code",
   "execution_count": 1,
   "id": "786bdf4b-719b-4ac6-b7ec-dc9123765260",
   "metadata": {},
   "outputs": [
    {
     "ename": "ModuleNotFoundError",
     "evalue": "No module named 'sklearn'",
     "output_type": "error",
     "traceback": [
      "\u001b[31m---------------------------------------------------------------------------\u001b[39m",
      "\u001b[31mModuleNotFoundError\u001b[39m                       Traceback (most recent call last)",
      "\u001b[36mCell\u001b[39m\u001b[36m \u001b[39m\u001b[32mIn[1]\u001b[39m\u001b[32m, line 6\u001b[39m\n\u001b[32m      4\u001b[39m \u001b[38;5;28;01mimport\u001b[39;00m\u001b[38;5;250m \u001b[39m\u001b[34;01mpandas\u001b[39;00m\u001b[38;5;250m \u001b[39m\u001b[38;5;28;01mas\u001b[39;00m\u001b[38;5;250m \u001b[39m\u001b[34;01mpd\u001b[39;00m\n\u001b[32m      5\u001b[39m \u001b[38;5;28;01mimport\u001b[39;00m\u001b[38;5;250m \u001b[39m\u001b[34;01mmatplotlib\u001b[39;00m\u001b[34;01m.\u001b[39;00m\u001b[34;01mpyplot\u001b[39;00m\u001b[38;5;250m \u001b[39m\u001b[38;5;28;01mas\u001b[39;00m\u001b[38;5;250m \u001b[39m\u001b[34;01mplt\u001b[39;00m\n\u001b[32m----> \u001b[39m\u001b[32m6\u001b[39m \u001b[38;5;28;01mfrom\u001b[39;00m\u001b[38;5;250m \u001b[39m\u001b[34;01msklearn\u001b[39;00m\u001b[34;01m.\u001b[39;00m\u001b[34;01mdatasets\u001b[39;00m\u001b[38;5;250m \u001b[39m\u001b[38;5;28;01mimport\u001b[39;00m load_iris\n\u001b[32m      8\u001b[39m \u001b[38;5;66;03m# -------------------------------\u001b[39;00m\n\u001b[32m      9\u001b[39m \u001b[38;5;66;03m# Task 1: Load and Explore Dataset\u001b[39;00m\n\u001b[32m     10\u001b[39m \u001b[38;5;66;03m# -------------------------------\u001b[39;00m\n\u001b[32m     11\u001b[39m \n\u001b[32m     12\u001b[39m \u001b[38;5;66;03m# Load Iris dataset\u001b[39;00m\n\u001b[32m     13\u001b[39m iris = load_iris(as_frame=\u001b[38;5;28;01mTrue\u001b[39;00m)\n",
      "\u001b[31mModuleNotFoundError\u001b[39m: No module named 'sklearn'"
     ]
    }
   ],
   "source": [
    "# 📌 Assignment: Analyzing Data with Pandas and Visualizing Results with Matplotlib\n",
    "\n",
    "# Step 1: Import libraries\n",
    "import pandas as pd\n",
    "import matplotlib.pyplot as plt\n",
    "from sklearn.datasets import load_iris\n",
    "\n",
    "# -------------------------------\n",
    "# Task 1: Load and Explore Dataset\n",
    "# -------------------------------\n",
    "\n",
    "# Load Iris dataset\n",
    "iris = load_iris(as_frame=True)\n",
    "df = iris.frame  # Convert to pandas DataFrame\n",
    "\n",
    "print(\"🔹 First 5 rows of dataset:\")\n",
    "print(df.head())\n",
    "\n",
    "print(\"\\n🔹 Dataset info:\")\n",
    "print(df.info())\n",
    "\n",
    "print(\"\\n🔹 Missing values check:\")\n",
    "print(df.isnull().sum())\n",
    "\n",
    "# -------------------------------\n",
    "# Task 2: Basic Data Analysis\n",
    "# -------------------------------\n",
    "\n",
    "print(\"\\n🔹 Basic statistics of dataset:\")\n",
    "print(df.describe())\n",
    "\n",
    "# Grouping by species and calculating mean values\n",
    "grouped = df.groupby(\"target\").mean()\n",
    "print(\"\\n🔹 Mean values by species:\")\n",
    "print(grouped)\n",
    "\n",
    "# -------------------------------\n",
    "# Task 3: Data Visualization\n",
    "# -------------------------------\n",
    "\n",
    "# 1. Line Chart - Petal length trend across samples\n",
    "plt.figure(figsize=(8,5))\n",
    "plt.plot(df.index, df[\"petal length (cm)\"], label=\"Petal Length\", color=\"blue\")\n",
    "plt.title(\"Line Chart: Petal Length Trend\")\n",
    "plt.xlabel(\"Sample Index\")\n",
    "plt.ylabel(\"Petal Length (cm)\")\n",
    "plt.legend()\n",
    "plt.show()\n",
    "\n",
    "# 2. Bar Chart - Average sepal length per species\n",
    "plt.figure(figsize=(8,5))\n",
    "grouped[\"sepal length (cm)\"].plot(kind=\"bar\", color=[\"red\", \"green\", \"blue\"])\n",
    "plt.title(\"Bar Chart: Average Sepal Length per Species\")\n",
    "plt.xlabel(\"Species (0=Setosa, 1=Versicolor, 2=Virginica)\")\n",
    "plt.ylabel(\"Average Sepal Length (cm)\")\n",
    "plt.show()\n",
    "\n",
    "# 3. Histogram - Distribution of petal length\n",
    "plt.figure(figsize=(8,5))\n",
    "plt.hist(df[\"petal length (cm)\"], bins=20, color=\"orange\", edgecolor=\"black\")\n",
    "plt.title(\"Histogram: Distribution of Petal Length\")\n",
    "plt.xlabel(\"Petal Length (cm)\")\n",
    "plt.ylabel(\"Frequency\")\n",
    "plt.show()\n",
    "\n",
    "# 4. Scatter Plot - Sepal Length vs Petal Length\n",
    "plt.figure(figsize=(8,5))\n",
    "plt.scatter(df[\"sepal length (cm)\"], df[\"petal length (cm)\"], c=df[\"target\"], cmap=\"viridis\")\n",
    "plt.title(\"Scatter Plot: Sepal Length vs Petal Length\")\n",
    "plt.xlabel(\"Sepal Length (cm)\")\n",
    "plt.ylabel(\"Petal Length (cm)\")\n",
    "plt.colorbar(label=\"Species\")\n",
    "plt.show()\n"
   ]
  },
  {
   "cell_type": "code",
   "execution_count": null,
   "id": "1959f617-7b89-4915-a4de-1065d7f7c379",
   "metadata": {},
   "outputs": [],
   "source": []
  }
 ],
 "metadata": {
  "kernelspec": {
   "display_name": "Python 3 (ipykernel)",
   "language": "python",
   "name": "python3"
  },
  "language_info": {
   "codemirror_mode": {
    "name": "ipython",
    "version": 3
   },
   "file_extension": ".py",
   "mimetype": "text/x-python",
   "name": "python",
   "nbconvert_exporter": "python",
   "pygments_lexer": "ipython3",
   "version": "3.13.5"
  }
 },
 "nbformat": 4,
 "nbformat_minor": 5
}
